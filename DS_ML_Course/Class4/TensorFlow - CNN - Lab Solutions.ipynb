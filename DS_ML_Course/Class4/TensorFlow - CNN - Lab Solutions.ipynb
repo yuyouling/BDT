{
 "cells": [
  {
   "cell_type": "code",
   "execution_count": null,
   "metadata": {},
   "outputs": [],
   "source": [
    "import tensorflow as tf\n",
    "from tensorflow import keras\n",
    "import os"
   ]
  },
  {
   "cell_type": "markdown",
   "metadata": {},
   "source": [
    "# TensorFlow CNN - Lab Solutions"
   ]
  },
  {
   "cell_type": "markdown",
   "metadata": {},
   "source": [
    "This Lab will use the \"rock_paper_scissors\" data. These are images of individuals displaying either a rock, paper or scissors hand gesture. There are 2520 training images (840 each), and 372 test images (124 each). Each is a 300 x 300 rgb image. There are also 33 additional images (in for_predictions folder) to do further validations. "
   ]
  },
  {
   "cell_type": "markdown",
   "metadata": {},
   "source": [
    "### Create a CNN"
   ]
  },
  {
   "cell_type": "code",
   "execution_count": null,
   "metadata": {},
   "outputs": [],
   "source": [
    "model = tf.keras.models.Sequential([\n",
    "    # This is the first convolution\n",
    "    tf.keras.layers.Conv2D(16, (3,3), padding='same', activation='relu', input_shape=(150, 150, 3)),\n",
    "    tf.keras.layers.MaxPooling2D(2, 2),\n",
    "    # The second convolution\n",
    "    tf.keras.layers.Conv2D(32, (3,3), padding='same', activation='relu'),\n",
    "    tf.keras.layers.MaxPooling2D(2,2),\n",
    "    # The third convolution\n",
    "    tf.keras.layers.Conv2D(64, (3,3), padding='same', activation='relu'),\n",
    "    tf.keras.layers.MaxPooling2D(2,2),\n",
    "    # The fourth convolution\n",
    "    tf.keras.layers.Conv2D(64, (3,3), padding='same', activation='relu'),\n",
    "    tf.keras.layers.MaxPooling2D(2,2),\n",
    "    # The fifth convolution\n",
    "    tf.keras.layers.Conv2D(64, (3,3), padding='same', activation='relu'),\n",
    "    tf.keras.layers.MaxPooling2D(2,2),\n",
    "    # Flatten the results to feed into a DNN\n",
    "    tf.keras.layers.Flatten(),\n",
    "    # 512 neuron hidden layer\n",
    "    tf.keras.layers.Dense(512, activation='relu'),\n",
    "    # 4 output neurons for multi-class output requires 'softmax' and will sum to 1. Each node will output its class' probability.\n",
    "    tf.keras.layers.Dense(3, activation='softmax')\n",
    "    ])\n",
    "\n",
    "\n",
    "model.compile(optimizer='adam', loss='sparse_categorical_crossentropy', metrics=['accuracy'])"
   ]
  },
  {
   "cell_type": "markdown",
   "metadata": {},
   "source": [
    "### Display a summary of the model"
   ]
  },
  {
   "cell_type": "code",
   "execution_count": null,
   "metadata": {},
   "outputs": [],
   "source": [
    "model.summary()"
   ]
  },
  {
   "cell_type": "markdown",
   "metadata": {},
   "source": [
    "### Normalize the data and generate labels for the images"
   ]
  },
  {
   "cell_type": "code",
   "execution_count": null,
   "metadata": {},
   "outputs": [],
   "source": [
    "from tensorflow.keras.preprocessing.image import ImageDataGenerator\n",
    "\n",
    "# All images will be rescaled by 1./255\n",
    "train_data_generator = ImageDataGenerator(rescale=1/255)\n",
    "validate_data_generator = ImageDataGenerator(rescale=1/255)\n",
    "\n",
    "# Flow training images in batches of 200 using train_data_generator\n",
    "train_generator = train_data_generator.flow_from_directory(\n",
    "        'rock_paper_scissors/train',  # This is the source directory for training images \n",
    "                            # that contains subdirectories(whose names will be the labels) that contain images\n",
    "        target_size=(150, 150),  # All images will be resized to 150x150\n",
    "        batch_size=200,\n",
    "        # Since we use 'sparse_categorical_crossentropy' loss, we need sparse classes\n",
    "        class_mode='sparse')\n",
    "\n",
    "# Flow validating images in batches of 25 using validate_data_generator\n",
    "validate_generator = validate_data_generator.flow_from_directory(\n",
    "        'rock_paper_scissors/test',  # This is the source directory for training images \n",
    "                            # that contains subdirectories(whose names will be the labels) that contain images\n",
    "        target_size=(150, 150),  # All images will be resized to 150x150\n",
    "        batch_size=100,\n",
    "        # Since we use 'sparse_categorical_crossentropy' loss, we need sparse classes\n",
    "        class_mode='sparse')"
   ]
  },
  {
   "cell_type": "markdown",
   "metadata": {},
   "source": [
    "### Train the CNN (using the generated labels)\n",
    "Fill in the steps for the training and validation generators. "
   ]
  },
  {
   "cell_type": "code",
   "execution_count": null,
   "metadata": {},
   "outputs": [],
   "source": [
    "# fit the model using the generated labels\n",
    "\n",
    "history = model.fit_generator(\n",
    "      train_generator,\n",
    "      steps_per_epoch=13,     # the ceiling of: total_number_of_images/batch_size\n",
    "                             # int(np.ceil(train_generator.n / float(batch_size)))\n",
    "      epochs=5,\n",
    "    \n",
    "      validation_data = validate_generator,\n",
    "      validation_steps=4,\n",
    "      verbose=1)"
   ]
  },
  {
   "cell_type": "markdown",
   "metadata": {},
   "source": [
    "### Manually validate the model \n",
    "Just fill in the tuple for target_size on line 13"
   ]
  },
  {
   "cell_type": "code",
   "execution_count": null,
   "metadata": {},
   "outputs": [],
   "source": [
    "import numpy as np\n",
    "from keras .preprocessing import image\n",
    "\n",
    "\n",
    "class_labels = ['paper', 'rock', 'scissors']\n",
    "\n",
    "# a list of images (from a directory/folder) that will be used to validate the model's predictions\n",
    "validating_images = os.listdir(\"rock_paper_scissors/for_predictions\")\n",
    "\n",
    "# predicting images from a folder containing a set of unseen images\n",
    "for file_name in validating_images:\n",
    "    path = 'rock_paper_scissors/for_predictions/' + file_name\n",
    "    img = image.load_img(path, target_size = (150,150))\n",
    "    x = image.img_to_array(img)\n",
    "    x = np.expand_dims(x, axis = 0)\n",
    "    images = np.vstack([x])\n",
    "    \n",
    "    prediction = model.predict(images)\n",
    "    \n",
    "    out = prediction[0]\n",
    "    print(file_name, \": \", class_labels[out.argmax()])\n"
   ]
  }
 ],
 "metadata": {
  "kernelspec": {
   "display_name": "Python 3",
   "language": "python",
   "name": "python3"
  },
  "language_info": {
   "codemirror_mode": {
    "name": "ipython",
    "version": 3
   },
   "file_extension": ".py",
   "mimetype": "text/x-python",
   "name": "python",
   "nbconvert_exporter": "python",
   "pygments_lexer": "ipython3",
   "version": "3.7.1"
  }
 },
 "nbformat": 4,
 "nbformat_minor": 2
}
