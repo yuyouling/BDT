{
 "cells": [
  {
   "cell_type": "markdown",
   "metadata": {},
   "source": [
    "# Pandas in-class Lab (Credit Data)"
   ]
  },
  {
   "cell_type": "code",
   "execution_count": null,
   "metadata": {},
   "outputs": [],
   "source": [
    "import numpy as np\n",
    "import pandas as pd"
   ]
  },
  {
   "cell_type": "code",
   "execution_count": null,
   "metadata": {},
   "outputs": [],
   "source": [
    "credit_df = pd.read_csv(\"credit.csv\")"
   ]
  },
  {
   "cell_type": "code",
   "execution_count": null,
   "metadata": {},
   "outputs": [],
   "source": [
    "credit_df.head()"
   ]
  },
  {
   "cell_type": "code",
   "execution_count": null,
   "metadata": {},
   "outputs": [],
   "source": [
    "credit_df.columns"
   ]
  },
  {
   "cell_type": "markdown",
   "metadata": {},
   "source": [
    "## LAB EXERCISES\n",
    "\n",
    "1.)  From credit_df, select only the features that are integers (non-string columns) and place them into the variable **int_features_df**\n",
    "\n",
    "2.)  From credit_df, select the examples/rows where 'age' is greater than 30 and place them into the variable **over_30_df**\n",
    "\n",
    "3.)  Get the shape (rows, features) of **over_30_df**\n",
    "\n",
    "4.)  How many individuals in **credit_df** are over 30?\n",
    "\n",
    "5.)  From credit_df, select only the 'job' and 'default' columns and place them into the variable **job_target_df**\n",
    "\n",
    "6.)  In **job_target_df**, transform the 'default' categorical variable into integers.\n",
    "\n",
    "7.)  How many 'management' workers are there?\n",
    "\n",
    "8.)  What's the mean age of the 'unskilled' workers? \n",
    "\n",
    "9.)  What percentage of the 'skilled' defaulted?\n",
    "        "
   ]
  },
  {
   "cell_type": "code",
   "execution_count": null,
   "metadata": {},
   "outputs": [],
   "source": []
  },
  {
   "cell_type": "code",
   "execution_count": null,
   "metadata": {},
   "outputs": [],
   "source": [
    "skilled_defaulted = credit_df.loc[(credit_df[\"job\"]== \"skilled\") & (credit_df[\"default\"]== \"yes\"), \"job\"].count()\n",
    "skilled = len(credit_df.loc[credit_df[\"job\"]== \"skilled\", \"job\"])\n",
    "percent = skilled_defaulted/skilled*100\n",
    "print(\"The percentage of skilled workers who defaulted is {:.2f}%\".format(percent))"
   ]
  }
 ],
 "metadata": {
  "kernelspec": {
   "display_name": "Python 3",
   "language": "python",
   "name": "python3"
  },
  "language_info": {
   "codemirror_mode": {
    "name": "ipython",
    "version": 3
   },
   "file_extension": ".py",
   "mimetype": "text/x-python",
   "name": "python",
   "nbconvert_exporter": "python",
   "pygments_lexer": "ipython3",
   "version": "3.7.1"
  }
 },
 "nbformat": 4,
 "nbformat_minor": 2
}
